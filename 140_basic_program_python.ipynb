{
 "cells": [
  {
   "cell_type": "markdown",
   "id": "ced9299e-8e25-46d2-9bab-1bee4673f3e6",
   "metadata": {},
   "source": [
    "## Program 1\n",
    "## Write a Python program to print \"Hello Python\"."
   ]
  },
  {
   "cell_type": "code",
   "execution_count": 57,
   "id": "dba4ce03-1283-4808-8f57-09ecb6e4360b",
   "metadata": {},
   "outputs": [
    {
     "name": "stdout",
     "output_type": "stream",
     "text": [
      "Hello Python\n",
      "The history saving thread hit an unexpected error (OperationalError('attempt to write a readonly database')).History will not be written to the database.\n"
     ]
    }
   ],
   "source": [
    "print(\"Hello Python\")"
   ]
  },
  {
   "cell_type": "markdown",
   "id": "809eb68a-6120-4ec3-882e-fff24559b066",
   "metadata": {},
   "source": [
    "## Program 2\n",
    "## Write a Python program to do arithmetical operations addition and division."
   ]
  },
  {
   "cell_type": "code",
   "execution_count": 12,
   "id": "e17d2060-ce14-4169-b9d7-5beff305f993",
   "metadata": {},
   "outputs": [
    {
     "name": "stdin",
     "output_type": "stream",
     "text": [
      "Enter to 1. number. 243\n",
      "Enter to 2. number. 4\n"
     ]
    },
    {
     "name": "stdout",
     "output_type": "stream",
     "text": [
      "sum:243.0+4.0=247.0\n"
     ]
    }
   ],
   "source": [
    "num1=float(input(\"Enter the 1. number.\"))\n",
    "num2=float(input(\"Enter the 2. number.\"))\n",
    "sum_result=(num1)+(num2)\n",
    "print(f\"sum:{num1}+{num2}={sum_result}\")"
   ]
  },
  {
   "cell_type": "code",
   "execution_count": 16,
   "id": "a5721e64-8d3b-4c62-a3cc-05ed58e0dcb0",
   "metadata": {},
   "outputs": [
    {
     "name": "stdin",
     "output_type": "stream",
     "text": [
      "Enter to 3. number. 2\n",
      "Enter to 4. number. 4\n"
     ]
    },
    {
     "name": "stdout",
     "output_type": "stream",
     "text": [
      "Division:2.0/4.0=0.5\n"
     ]
    }
   ],
   "source": [
    "num3=float(input(\"Enter the 3. number.\"))\n",
    "num4=float(input(\"Enter the 4. number.\"))\n",
    "if num4  == 0:\n",
    "    print(\"undefined value\")\n",
    "else:\n",
    "    Division=num3/num4\n",
    "    print(f\"Division:{num3}/{num4}={Division}\")\n"
   ]
  },
  {
   "cell_type": "markdown",
   "id": "0d585af9-b522-4b23-9d4c-169ac634f1ef",
   "metadata": {},
   "source": [
    "## Program 3\n",
    "## Write a Python program to find the area of a triangle."
   ]
  },
  {
   "cell_type": "code",
   "execution_count": 17,
   "id": "e7f798e1-3346-4ef1-ab13-1365a6b0adbb",
   "metadata": {},
   "outputs": [
    {
     "name": "stdin",
     "output_type": "stream",
     "text": [
      "Enter the base value.  2\n",
      "Enter the height value. 4\n"
     ]
    },
    {
     "name": "stdout",
     "output_type": "stream",
     "text": [
      "Area:4.0\n"
     ]
    }
   ],
   "source": [
    "##Taban*Yükseklik/2\n",
    "base=float(input(\"Enter the base value. \"))\n",
    "height=float(input(\"Enter the height value.\"))\n",
    "area=(base*height)/2\n",
    "print(f\"Area:{area}\")"
   ]
  },
  {
   "cell_type": "markdown",
   "id": "5561aa6b-901a-4c70-a2c9-ca5c2da3303f",
   "metadata": {},
   "source": [
    "## Program 4\n",
    "## Write a Python program to swap two variables."
   ]
  },
  {
   "cell_type": "code",
   "execution_count": 22,
   "id": "22fac756-8db1-4bbb-a32f-a58fd5bb805b",
   "metadata": {},
   "outputs": [
    {
     "name": "stdin",
     "output_type": "stream",
     "text": [
      "Enter the value of the first variable (a):  2\n",
      "Enter the value of the first variable (b):  4\n"
     ]
    },
    {
     "name": "stdout",
     "output_type": "stream",
     "text": [
      "Original values a:2, b4.\n",
      "Swapped values a:4,b:2\n"
     ]
    }
   ],
   "source": [
    "a = input(\"Enter the value of the first variable (a): \")\n",
    "b = input(\"Enter the value of the first variable (b): \")\n",
    "print(f\"Original values a:{a}, b{b}.\")\n",
    "temp=a\n",
    "a=b\n",
    "b=temp\n",
    "print(f\"Swapped values a:{a},b:{b}\")"
   ]
  },
  {
   "cell_type": "markdown",
   "id": "deac3d2a-e3d9-44ac-a2b8-aa3b792519d0",
   "metadata": {},
   "source": [
    "## Program 5\n",
    "## Write a Python program to generate a random number."
   ]
  },
  {
   "cell_type": "code",
   "execution_count": 35,
   "id": "919c63d1-ec19-42fe-bffc-6fb662e21c9d",
   "metadata": {},
   "outputs": [
    {
     "name": "stdout",
     "output_type": "stream",
     "text": [
      "Random number:78\n"
     ]
    }
   ],
   "source": [
    "from random import randint\n",
    "print(f\"Random number:{random.randint(1,100)}\")"
   ]
  },
  {
   "cell_type": "markdown",
   "id": "778eb25c-3b35-4ec9-8a72-b76ca2ea265e",
   "metadata": {},
   "source": [
    "## Program 6\n",
    "## Write a Python program to convert kilometers to miles."
   ]
  },
  {
   "cell_type": "code",
   "execution_count": 37,
   "id": "ac52f9e4-f373-4b66-aa66-4ccd7fe348fa",
   "metadata": {},
   "outputs": [
    {
     "name": "stdin",
     "output_type": "stream",
     "text": [
      "Enter the kilometer value. 2\n"
     ]
    },
    {
     "name": "stdout",
     "output_type": "stream",
     "text": [
      ":2.0 Kilometer is equal to 1.242742Miles \n"
     ]
    }
   ],
   "source": [
    "# Conversion factor: 1 kilometer = 0.621371 miles\n",
    "km=float(input(\"Enter the kilometer value.\"))\n",
    "mile=km*0.621371\n",
    "print(f\":{km} Kilometer is equal to {mile} Miles \")"
   ]
  },
  {
   "cell_type": "markdown",
   "id": "939323ce-1366-471a-855a-8cfd173d6d9a",
   "metadata": {},
   "source": [
    "## Program 7\n",
    "## Write a Python program to convert Celsius to Fahrenheit."
   ]
  },
  {
   "cell_type": "code",
   "execution_count": 38,
   "id": "fc19cdad-cb72-468b-9d30-7c4495597874",
   "metadata": {},
   "outputs": [
    {
     "name": "stdin",
     "output_type": "stream",
     "text": [
      "Enter the celcius value. 2\n"
     ]
    },
    {
     "name": "stdout",
     "output_type": "stream",
     "text": [
      "2.0 Celcius is equal to 35.6 Fahrenheit.\n"
     ]
    }
   ],
   "source": [
    "# Conversion formula: Fahrenheit = (Celsius * 9/5) + 32\n",
    "clc=float(input(\"Enter the celcius value.\"))\n",
    "fh=(clc*9/5)+32\n",
    "print(f\"{clc} Celcius is equal to {fh} Fahrenheit.\")"
   ]
  },
  {
   "cell_type": "markdown",
   "id": "047a20ab-5ea0-4cf1-a9c4-1c26cea36205",
   "metadata": {},
   "source": [
    "## Program 8\n",
    "## Write a Python program to convert Celsius to Fahrenheit."
   ]
  },
  {
   "cell_type": "code",
   "execution_count": 44,
   "id": "8e06c186-f6f4-48a6-a0f6-6e11d546a99c",
   "metadata": {},
   "outputs": [
    {
     "name": "stdin",
     "output_type": "stream",
     "text": [
      "Enter the year. 2024\n",
      "Enter the month 10\n"
     ]
    },
    {
     "name": "stdout",
     "output_type": "stream",
     "text": [
      "    October 2024\n",
      "Mo Tu We Th Fr Sa Su\n",
      "    1  2  3  4  5  6\n",
      " 7  8  9 10 11 12 13\n",
      "14 15 16 17 18 19 20\n",
      "21 22 23 24 25 26 27\n",
      "28 29 30 31\n",
      "\n"
     ]
    }
   ],
   "source": [
    "import calendar\n",
    "year=int(input(\"Enter the year.\"))\n",
    "month=int(input(\"Enter the month\"))\n",
    "cal = calendar.month(year, month)\n",
    "print(cal)"
   ]
  },
  {
   "cell_type": "markdown",
   "id": "6930c953-eb30-4f3c-9fd9-41c8c351ea7a",
   "metadata": {},
   "source": [
    "## Program 9\n",
    "## Write a Python program to solve quadratic equation."
   ]
  },
  {
   "cell_type": "code",
   "execution_count": 56,
   "id": "656281d5-ec6a-4484-ae39-76da688b84cc",
   "metadata": {},
   "outputs": [
    {
     "name": "stdin",
     "output_type": "stream",
     "text": [
      "Enter the a value. 2\n",
      "Enter the b value. 1\n",
      "Enter the c value. 2\n"
     ]
    },
    {
     "name": "stdout",
     "output_type": "stream",
     "text": [
      "Root 1: -0.25 + 0.9682458365518543i\n",
      "Root 2: -0.25 - 0.9682458365518543i\n"
     ]
    }
   ],
   "source": [
    "import math\n",
    "a=float(input(\"Enter the a value.\"))\n",
    "b=float(input(\"Enter the b value.\"))\n",
    "c=float(input(\"Enter the c value.\"))\n",
    "delta=(b**2)-(4*a*c)\n",
    "if delta>0:\n",
    "    root1 = (-b + math.sqrt(delta)) / (2*a)\n",
    "    root2 = (-b - math.sqrt(delta)) / (2*a)\n",
    "    print(f\"Root 1: {root1}\")\n",
    "    print(f\"Root 2: {root2}\")\n",
    "elif delta==0:\n",
    "    root = -b / (2*a)\n",
    "    print(f\"Root: {root}\")\n",
    "else:\n",
    "    real_part = -b / (2*a)\n",
    "    imaginary_part = math.sqrt(abs(delta)) / (2*a)\n",
    "    print(f\"Root 1: {real_part} + {imaginary_part}i\")\n",
    "    print(f\"Root 2: {real_part} - {imaginary_part}i\")"
   ]
  },
  {
   "cell_type": "markdown",
   "id": "c6356edc-c338-4152-8875-9eb9091139aa",
   "metadata": {},
   "source": [
    "## Program 10\n",
    "## Write a Python program to swap two variables without temp variable."
   ]
  },
  {
   "cell_type": "code",
   "execution_count": 59,
   "id": "7078eb8e-0a2c-427a-94b4-af1a0501be08",
   "metadata": {},
   "outputs": [
    {
     "name": "stdin",
     "output_type": "stream",
     "text": [
      "Enter the a veriable. 2\n",
      "Enter the b veriable. 3\n"
     ]
    },
    {
     "name": "stdout",
     "output_type": "stream",
     "text": [
      "After swapping : a=3, b:2\n"
     ]
    }
   ],
   "source": [
    "a = input(\"Enter the a veriable.\")\n",
    "b = input(\"Enter the b veriable.\")\n",
    "\n",
    "a,b=b,a\n",
    "\n",
    "print(f\"After swapping : a={a}, b:{b}\")"
   ]
  },
  {
   "cell_type": "markdown",
   "id": "70429f12-d76c-4a0a-8732-e1bab62cddb0",
   "metadata": {},
   "source": [
    "### Day 1 End"
   ]
  },
  {
   "cell_type": "code",
   "execution_count": null,
   "id": "291c5b68-257c-45d1-9caf-308bb65eacc5",
   "metadata": {},
   "outputs": [],
   "source": []
  }
 ],
 "metadata": {
  "kernelspec": {
   "display_name": "Python 3 (ipykernel)",
   "language": "python",
   "name": "python3"
  },
  "language_info": {
   "codemirror_mode": {
    "name": "ipython",
    "version": 3
   },
   "file_extension": ".py",
   "mimetype": "text/x-python",
   "name": "python",
   "nbconvert_exporter": "python",
   "pygments_lexer": "ipython3",
   "version": "3.12.7"
  }
 },
 "nbformat": 4,
 "nbformat_minor": 5
}
